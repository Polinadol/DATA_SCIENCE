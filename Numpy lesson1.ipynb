{
 "cells": [
  {
   "cell_type": "markdown",
   "metadata": {
    "id": "M1BEpoW5xw1l"
   },
   "source": [
    "Задание 1\n",
    "Импортируйте библиотеку Numpy и дайте ей псевдоним np.\n",
    "Создайте массив Numpy под названием a размером 5x2, то есть состоящий из 5 строк и 2 столбцов. Первый столбец должен содержать числа 1, 2, 3, 3, 1, а второй - числа 6, 8, 11, 10, 7. Будем считать, что каждый столбец - это признак, а строка - наблюдение. Затем найдите среднее значение по каждому признаку, используя метод mean массива Numpy. Результат запишите в массив mean_a, в нем должно быть 2 элемент\n"
   ]
  },
  {
   "cell_type": "code",
   "execution_count": 9,
   "metadata": {
    "executionInfo": {
     "elapsed": 244,
     "status": "ok",
     "timestamp": 1671811579004,
     "user": {
      "displayName": "High Hill",
      "userId": "06515183920978911378"
     },
     "user_tz": -300
    },
    "id": "QlpbNjRSu_tg"
   },
   "outputs": [],
   "source": [
    "import numpy as np\n"
   ]
  },
  {
   "cell_type": "code",
   "execution_count": 10,
   "metadata": {
    "colab": {
     "base_uri": "https://localhost:8080/"
    },
    "executionInfo": {
     "elapsed": 218,
     "status": "ok",
     "timestamp": 1671811800914,
     "user": {
      "displayName": "High Hill",
      "userId": "06515183920978911378"
     },
     "user_tz": -300
    },
    "id": "R1FBu1jUvEWr",
    "outputId": "231a90eb-55ce-441d-932d-792048159c5e"
   },
   "outputs": [
    {
     "name": "stdout",
     "output_type": "stream",
     "text": [
      "[[ 1  6]\n",
      " [ 2  8]\n",
      " [ 3 11]\n",
      " [ 3 10]\n",
      " [ 1  7]]\n"
     ]
    }
   ],
   "source": [
    "a=np.array ([[1,6],\n",
    "         [2,8],\n",
    "         [3,11],\n",
    "         [3,10],\n",
    "         [1,7]])\n",
    "print (a)"
   ]
  },
  {
   "cell_type": "code",
   "execution_count": 11,
   "metadata": {
    "colab": {
     "base_uri": "https://localhost:8080/"
    },
    "executionInfo": {
     "elapsed": 242,
     "status": "ok",
     "timestamp": 1671812095569,
     "user": {
      "displayName": "High Hill",
      "userId": "06515183920978911378"
     },
     "user_tz": -300
    },
    "id": "NJOM1qbewEMY",
    "outputId": "f3922b7b-e4b2-4a84-fc45-4ba5bb2ac678"
   },
   "outputs": [
    {
     "name": "stdout",
     "output_type": "stream",
     "text": [
      "[[2.  8.4]]\n"
     ]
    }
   ],
   "source": [
    "a_mean =np.array ([a.mean(axis=0)])\n",
    "print (a_mean)"
   ]
  },
  {
   "cell_type": "markdown",
   "metadata": {
    "id": "diO1-ZxRx7lv"
   },
   "source": [
    "Задание 2\n",
    "Вычислите массив a_centered, отняв от значений массива “а” средние значения соответствующих признаков, содержащиеся в массиве mean_a. Вычисление должно производиться в одно действие. Получившийся массив должен иметь размер 5x2.\n",
    "\n"
   ]
  },
  {
   "cell_type": "code",
   "execution_count": 12,
   "metadata": {
    "colab": {
     "base_uri": "https://localhost:8080/"
    },
    "executionInfo": {
     "elapsed": 216,
     "status": "ok",
     "timestamp": 1671812250964,
     "user": {
      "displayName": "High Hill",
      "userId": "06515183920978911378"
     },
     "user_tz": -300
    },
    "id": "3T7PajOaxD0b",
    "outputId": "83d7056e-fe75-4e85-a73d-067fcd42f324"
   },
   "outputs": [
    {
     "name": "stdout",
     "output_type": "stream",
     "text": [
      "[[-1.  -2.4]\n",
      " [ 0.  -0.4]\n",
      " [ 1.   2.6]\n",
      " [ 1.   1.6]\n",
      " [-1.  -1.4]]\n"
     ]
    }
   ],
   "source": [
    "a_centered =a-a_mean\n",
    "print (a_centered)"
   ]
  },
  {
   "cell_type": "markdown",
   "metadata": {
    "id": "BmKFUJqbx_ig"
   },
   "source": [
    "Задание 3\n",
    "Найдите скалярное произведение столбцов массива a_centered. В результате должна получиться величина a_centered_sp. Затем поделите a_centered_sp на N-1, где N - число наблюдений.\n"
   ]
  },
  {
   "cell_type": "code",
   "execution_count": 13,
   "metadata": {
    "colab": {
     "base_uri": "https://localhost:8080/"
    },
    "executionInfo": {
     "elapsed": 237,
     "status": "ok",
     "timestamp": 1671813469302,
     "user": {
      "displayName": "High Hill",
      "userId": "06515183920978911378"
     },
     "user_tz": -300
    },
    "id": "uRdwQdhtyFht",
    "outputId": "afd21996-d393-4764-b282-d71b10bb930c"
   },
   "outputs": [
    {
     "name": "stdout",
     "output_type": "stream",
     "text": [
      "[-1.  0.  1.  1. -1.]\n",
      "[-2.4 -0.4  2.6  1.6 -1.4]\n",
      "Скалярное произведение столбцов массива a_centered:  8.0\n",
      "Число наблюдений равно  5\n",
      "Ответ:  2.0\n"
     ]
    }
   ],
   "source": [
    "a1=a_centered[:,0] # переведем в вектор\n",
    "print (a1)\n",
    "a2=a_centered[:,1] # переведем в вектор\n",
    "print (a2)\n",
    "a_centered_sp=np.dot(a1,a2)\n",
    "print ('Скалярное произведение столбцов массива a_centered: ', a_centered_sp)\n",
    "N=a.shape[0]\n",
    "print ('Число наблюдений равно ',N)\n",
    "b=a_centered_sp/(N-1)\n",
    "print ('Ответ: ',b)"
   ]
  },
  {
   "cell_type": "markdown",
   "metadata": {
    "id": "f4fYYumy0_s_"
   },
   "source": [
    "Задание 4**\n",
    "Число, которое мы получили в конце задания 3 является ковариацией двух признаков, содержащихся в массиве “а”. В задании 4 мы делили сумму произведений центрированных признаков на N-1, а не на N, поэтому полученная нами величина является несмещенной оценкой ковариации.В этом задании проверьте получившееся число, вычислив ковариацию еще одним способом - с помощью функции np.cov. В качестве аргумента m функция np.cov должна принимать транспонированный массив “a”. В получившейся ковариационной матрице (массив Numpy размером 2x2) искомое значение ковариации будет равно элементу в строке с индексом 0 и столбце с индексом 1.\n",
    "\n"
   ]
  },
  {
   "cell_type": "code",
   "execution_count": 14,
   "metadata": {
    "colab": {
     "base_uri": "https://localhost:8080/"
    },
    "executionInfo": {
     "elapsed": 237,
     "status": "ok",
     "timestamp": 1671813906858,
     "user": {
      "displayName": "High Hill",
      "userId": "06515183920978911378"
     },
     "user_tz": -300
    },
    "id": "-76SzF4W1ENZ",
    "outputId": "8a53f2e6-e8c5-49b5-eae6-563fd2cf29e5"
   },
   "outputs": [
    {
     "name": "stdout",
     "output_type": "stream",
     "text": [
      "[[ 1  2  3  3  1]\n",
      " [ 6  8 11 10  7]]\n",
      "[[1.  2. ]\n",
      " [2.  4.3]]\n",
      "Искомое значение   2.0\n"
     ]
    }
   ],
   "source": [
    "a_t=np.transpose(a)\n",
    "print(a_t)\n",
    "new_a=np.cov(a_t)\n",
    "print(new_a)\n",
    "x=new_a[0,1]\n",
    "print ('Искомое значение  ',x)"
   ]
  },
  {
   "cell_type": "code",
   "execution_count": 15,
   "metadata": {
    "colab": {
     "base_uri": "https://localhost:8080/"
    },
    "executionInfo": {
     "elapsed": 220,
     "status": "ok",
     "timestamp": 1671813941351,
     "user": {
      "displayName": "High Hill",
      "userId": "06515183920978911378"
     },
     "user_tz": -300
    },
    "id": "sHan7QD439T2",
    "outputId": "6da3cd66-f57d-4666-e813-0d5afccfe62e"
   },
   "outputs": [
    {
     "data": {
      "text/plain": [
       "True"
      ]
     },
     "execution_count": 15,
     "metadata": {},
     "output_type": "execute_result"
    }
   ],
   "source": [
    "x==b"
   ]
  },
  {
   "cell_type": "code",
   "execution_count": null,
   "metadata": {},
   "outputs": [],
   "source": []
  },
  {
   "cell_type": "code",
   "execution_count": null,
   "metadata": {},
   "outputs": [],
   "source": []
  }
 ],
 "metadata": {
  "colab": {
   "authorship_tag": "ABX9TyNM2mz8qR6JscXuYiTIvbap",
   "provenance": []
  },
  "kernelspec": {
   "display_name": "Python 3 (ipykernel)",
   "language": "python",
   "name": "python3"
  },
  "language_info": {
   "codemirror_mode": {
    "name": "ipython",
    "version": 3
   },
   "file_extension": ".py",
   "mimetype": "text/x-python",
   "name": "python",
   "nbconvert_exporter": "python",
   "pygments_lexer": "ipython3",
   "version": "3.9.12"
  }
 },
 "nbformat": 4,
 "nbformat_minor": 1
}
